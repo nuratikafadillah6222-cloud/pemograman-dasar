{
  "nbformat": 4,
  "nbformat_minor": 0,
  "metadata": {
    "colab": {
      "provenance": [],
      "authorship_tag": "ABX9TyM9w/YBht54ejxU9Yb1TjjB",
      "include_colab_link": true
    },
    "kernelspec": {
      "name": "python3",
      "display_name": "Python 3"
    },
    "language_info": {
      "name": "python"
    }
  },
  "cells": [
    {
      "cell_type": "markdown",
      "metadata": {
        "id": "view-in-github",
        "colab_type": "text"
      },
      "source": [
        "<a href=\"https://colab.research.google.com/github/nuratikafadillah6222-cloud/pemograman-dasar/blob/main/latihan_minggu_pengganti.ipynb\" target=\"_parent\"><img src=\"https://colab.research.google.com/assets/colab-badge.svg\" alt=\"Open In Colab\"/></a>"
      ]
    },
    {
      "cell_type": "code",
      "execution_count": 1,
      "metadata": {
        "colab": {
          "base_uri": "https://localhost:8080/"
        },
        "id": "9WUUG-wUvBun",
        "outputId": "716e5797-5c60-4e21-f7db-71c76274d22d"
      },
      "outputs": [
        {
          "output_type": "stream",
          "name": "stdout",
          "text": [
            "Halo, Noor!\n",
            "Halo, Fathir!\n",
            "Halo, Atika!\n",
            "Halo, Resa!\n"
          ]
        }
      ],
      "source": [
        "# fungsi sederhana\n",
        "\n",
        "def sapa(nama):\n",
        "  return f\"Halo, {nama}!\"\n",
        "\n",
        "print(sapa(\"Noor\"))\n",
        "print(sapa(\"Fathir\"))\n",
        "print(sapa(\"Atika\"))\n",
        "print(sapa(\"Resa\"))"
      ]
    },
    {
      "cell_type": "code",
      "source": [
        "# fungsi dengan parameter\n",
        "\n",
        "def hitung_total(harga, jumlah):\n",
        "  return harga * jumlah\n",
        "\n",
        "def hitung_diskon(total, persen_diskon):\n",
        "  return total * (persen_diskon / 100)\n",
        "\n",
        "# penggunaan\n",
        "harga_barang = 5000\n",
        "jumlah_barang = 5\n",
        "total = hitung_total(harga_barang, jumlah_barang)\n",
        "diskon = hitung_diskon(total, 10)\n",
        "\n",
        "print(f\"Total: Rp{total}\")\n",
        "print(f\"Diskon: Rp{diskon}\")\n",
        "print(f\"Bayar: Rp{total - diskon}\")\n"
      ],
      "metadata": {
        "colab": {
          "base_uri": "https://localhost:8080/"
        },
        "id": "a1N6YEIRyDVX",
        "outputId": "314fd645-6e03-4f64-9a65-21a88192de84"
      },
      "execution_count": 2,
      "outputs": [
        {
          "output_type": "stream",
          "name": "stdout",
          "text": [
            "Total: Rp25000\n",
            "Diskon: Rp2500.0\n",
            "Bayar: Rp22500.0\n"
          ]
        }
      ]
    },
    {
      "cell_type": "code",
      "source": [
        "def misteri (x, y):\n",
        "  if x > y:\n",
        "    return x * 2\n",
        "  else:\n",
        "    return y + 5\n",
        "\n",
        "print(misteri(2, 7))\n",
        "print(misteri(7, 4))"
      ],
      "metadata": {
        "colab": {
          "base_uri": "https://localhost:8080/"
        },
        "id": "5oijoouNzXKd",
        "outputId": "c5b4daf2-372e-4fc8-f4d7-3f48003d1ecd"
      },
      "execution_count": 6,
      "outputs": [
        {
          "output_type": "stream",
          "name": "stdout",
          "text": [
            "12\n",
            "14\n"
          ]
        }
      ]
    },
    {
      "cell_type": "code",
      "source": [
        "# fungsi: input & output\n",
        "\n",
        "def kalkulator():\n",
        "  # TODO: Minta input angka pertama dari user\n",
        "  angka1 = input(\"Masukkan angka pertama: \")\n",
        "  angka2 = input(\"Masukkan angka kedua: \")\n",
        "\n",
        "  angka1 = int(angka1)\n",
        "  angka2 = int(angka2)\n",
        "\n",
        "  hasil = angka1 + angka2\n",
        "\n",
        "  return hasil\n",
        "hasil = kalkulator()\n",
        "print(f\"Hasil penjumlahan: {hasil}\")\n",
        "\n",
        "# Alternatif untuk testing tanpa input:\n",
        "def test_kalkulator():\n",
        "  return 10 + 5\n",
        "\n",
        "print(f\"Test: 10 + 5 = {test_kalkulator()}\")\n"
      ],
      "metadata": {
        "colab": {
          "base_uri": "https://localhost:8080/"
        },
        "id": "XeNPNtO00i1d",
        "outputId": "dd85a479-8caf-4510-a884-67df37f26335"
      },
      "execution_count": 9,
      "outputs": [
        {
          "output_type": "stream",
          "name": "stdout",
          "text": [
            "Masukkan angka pertama: 10\n",
            "Masukkan angka kedua: 3\n",
            "Hasil penjumlahan: 13\n",
            "Test: 10 + 5 = 15\n"
          ]
        }
      ]
    },
    {
      "cell_type": "code",
      "source": [
        "# fungsi dengan multiple parameter\n",
        "\n",
        "def hitung_rata_rata(a, b, c):\n",
        "  total = a + b + c\n",
        "  return total / 3\n",
        "\n",
        "def format_nilai(nama, nilai):\n",
        "  if nilai >= 80:\n",
        "    grade = \"A\"\n",
        "  elif nilai >= 70:\n",
        "    grade = \"B\"\n",
        "  else:\n",
        "    grade = \"C\"\n",
        "  return f\"{nama}: {nilai} ({grade})\"\n",
        "\n",
        "result1 = hitung_rata_rata(90, 90, 85)\n",
        "result2 = format_nilai(\"Atika\", result1)\n",
        "print(result2)"
      ],
      "metadata": {
        "colab": {
          "base_uri": "https://localhost:8080/"
        },
        "id": "VIY5hD-55-7a",
        "outputId": "4a58351e-9879-42b2-c244-c985d301b7bd"
      },
      "execution_count": 12,
      "outputs": [
        {
          "output_type": "stream",
          "name": "stdout",
          "text": [
            "Atika: 88.33333333333333 (A)\n"
          ]
        }
      ]
    },
    {
      "cell_type": "code",
      "source": [
        "# fungsi perulangan\n",
        "\n",
        "def proses_data(numbers):\n",
        "  hasil = []\n",
        "  for num in numbers:\n",
        "    if num %2 == 0:\n",
        "      hasil.append(num * 2)\n",
        "    else:\n",
        "      hasil.append(num + 10)\n",
        "  return hasil\n",
        "\n",
        "def hitung_total(data_list):\n",
        "    return sum(data_list)\n",
        "\n",
        "input_data = [2, 3, 4, 5]\n",
        "step1 = proses_data(input_data)\n",
        "step2 = hitung_total(step1)\n",
        "\n",
        "print(f\"Hasil akhir: {step2}\")"
      ],
      "metadata": {
        "colab": {
          "base_uri": "https://localhost:8080/"
        },
        "id": "HwGmnNF97YN9",
        "outputId": "41584990-bf46-4106-c003-766b67e962b2"
      },
      "execution_count": 38,
      "outputs": [
        {
          "output_type": "stream",
          "name": "stdout",
          "text": [
            "Hasil akhir: 40\n"
          ]
        }
      ]
    },
    {
      "cell_type": "code",
      "source": [
        "# Fungsi sistem pemesanan minuman\n",
        "\n",
        "def hitung_total(menu_pesanan):\n",
        "    total = 0\n",
        "    for nama, harga in menu_pesanan:\n",
        "        total += harga\n",
        "    return total\n",
        "\n",
        "def hitung_diskon(total):\n",
        "    if total > 50000:\n",
        "        return total * 0.1\n",
        "    return 0\n",
        "\n",
        "def tampilkan_ringkasan(nama, menu, total, diskon):\n",
        "    print(f\"Pesanan untuk: {nama}\")\n",
        "    print(\"-\" * 30)\n",
        "    for i, (nama_minuman, harga) in enumerate(menu, 1):\n",
        "        print(f\"{i}. {nama_minuman} - Rp{harga}\")\n",
        "    print(\"-\" * 30)\n",
        "    print(f\"Total: Rp{total}\")\n",
        "    print(f\"Diskon: Rp{diskon}\")\n",
        "    print(f\"Harga Final: Rp{total - diskon}\")\n",
        "\n",
        "# Contoh penggunaan\n",
        "menu = [\n",
        "    (\"Es Teh Manis\", 6000),\n",
        "    (\"Kopi Susu\", 12000),\n",
        "    (\"Jus Mangga\", 18000)\n",
        "]\n",
        "\n",
        "total = hitung_total(menu)\n",
        "diskon = hitung_diskon(total)\n",
        "tampilkan_ringkasan(\"Fathir\", menu, total, diskon)\n"
      ],
      "metadata": {
        "colab": {
          "base_uri": "https://localhost:8080/"
        },
        "id": "An3l-xpbDxEC",
        "outputId": "ded600ab-9afe-4127-f423-e40c714653d9"
      },
      "execution_count": 24,
      "outputs": [
        {
          "output_type": "stream",
          "name": "stdout",
          "text": [
            "Pesanan untuk: Fathir\n",
            "------------------------------\n",
            "1. Es Teh Manis - Rp6000\n",
            "2. Kopi Susu - Rp12000\n",
            "3. Jus Mangga - Rp18000\n",
            "------------------------------\n",
            "Total: Rp36000\n",
            "Diskon: Rp0\n",
            "Harga Final: Rp36000\n"
          ]
        }
      ]
    },
    {
      "cell_type": "code",
      "source": [],
      "metadata": {
        "id": "IZiBRpsnGCtV"
      },
      "execution_count": null,
      "outputs": []
    }
  ]
}