{
  "nbformat": 4,
  "nbformat_minor": 0,
  "metadata": {
    "colab": {
      "provenance": [],
      "authorship_tag": "ABX9TyPu5fD+L0DrrzeZTDYnVVlR",
      "include_colab_link": true
    },
    "kernelspec": {
      "name": "python3",
      "display_name": "Python 3"
    },
    "language_info": {
      "name": "python"
    }
  },
  "cells": [
    {
      "cell_type": "markdown",
      "metadata": {
        "id": "view-in-github",
        "colab_type": "text"
      },
      "source": [
        "<a href=\"https://colab.research.google.com/github/nuratikafadillah6222-cloud/pemograman-dasar/blob/main/Tugas_minggu_ke_3.ipynb\" target=\"_parent\"><img src=\"https://colab.research.google.com/assets/colab-badge.svg\" alt=\"Open In Colab\"/></a>"
      ]
    },
    {
      "cell_type": "code",
      "execution_count": 7,
      "metadata": {
        "colab": {
          "base_uri": "https://localhost:8080/"
        },
        "id": "LA2P3JiAvdID",
        "outputId": "81e88701-141f-407e-d8c7-778d8ce8fc64"
      },
      "outputs": [
        {
          "output_type": "stream",
          "name": "stdout",
          "text": [
            "=== Program Kasir Sederhana ===\n",
            "Masukkan jumlah barang yang dibeli: 3\n",
            "harga item ke-1: 60000\n",
            "harga item ke-2: 45000\n",
            "harga item ke-3: 27000\n",
            "Apakah pelanggan anggota (member)? (y/n): y\n",
            "\n",
            "Rincian Pembayaran:\n",
            "Subtotal        : Rp 132000\n",
            "Diskon (15%)    : Rp 19800.0\n",
            "Harga Setelah Diskon : Rp 112200.0\n",
            "PPN 11%         : Rp 12342.0\n",
            "Total Bayar     : Rp 124542.0\n"
          ]
        }
      ],
      "source": [
        "print(\"=== Program Kasir Sederhana ===\")\n",
        "\n",
        "# ---- Input ----\n",
        "n = int(input(\"Masukkan jumlah barang yang dibeli: \"))\n",
        "harga = [int(input(f\"harga item ke-{i+1}: \")) for i in range(n)]\n",
        "\n",
        "# ---- Hitung Subtotal ----\n",
        "subtotal = sum(harga)\n",
        "\n",
        "# ---- Input Member ----\n",
        "member   = input(\"Apakah pelanggan anggota (member)? (y/n): \")\n",
        "\n",
        "# ---- Evaluasi Syarat Diskon ----\n",
        "# True = 1, False = 0 → dapat dipakai langsung untuk perhitungan\n",
        "syarat_diskon = (member.lower() == \"y\") * (subtotal > 100000)\n",
        "\n",
        "# ---- Hitung Diskon ----\n",
        "diskon = subtotal * 0.15 * syarat_diskon\n",
        "\n",
        "# ---- Harga Setelah Diskon ----\n",
        "harga_setelah_diskon = subtotal - diskon\n",
        "\n",
        "# ---- Hitung PPN 11% ----\n",
        "ppn = harga_setelah_diskon * 0.11\n",
        "\n",
        "# ---- Total Akhir ----\n",
        "total_akhir = harga_setelah_diskon + ppn\n",
        "\n",
        "# ---- Output ----\n",
        "print(\"\\nRincian Pembayaran:\")\n",
        "print(\"Subtotal        : Rp\", subtotal)\n",
        "print(\"Diskon (15%)    : Rp\", diskon)\n",
        "print(\"Harga Setelah Diskon : Rp\", harga_setelah_diskon)\n",
        "print(\"PPN 11%         : Rp\", ppn)\n",
        "print(\"Total Bayar     : Rp\", total_akhir)\n",
        "\n"
      ]
    }
  ]
}