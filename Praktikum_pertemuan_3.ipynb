{
  "nbformat": 4,
  "nbformat_minor": 0,
  "metadata": {
    "colab": {
      "provenance": [],
      "authorship_tag": "ABX9TyNjHfsxuvaCogl+MwURTKFr",
      "include_colab_link": true
    },
    "kernelspec": {
      "name": "python3",
      "display_name": "Python 3"
    },
    "language_info": {
      "name": "python"
    }
  },
  "cells": [
    {
      "cell_type": "markdown",
      "metadata": {
        "id": "view-in-github",
        "colab_type": "text"
      },
      "source": [
        "<a href=\"https://colab.research.google.com/github/nuratikafadillah6222-cloud/pemograman-dasar/blob/main/Praktikum_pertemuan_3.ipynb\" target=\"_parent\"><img src=\"https://colab.research.google.com/assets/colab-badge.svg\" alt=\"Open In Colab\"/></a>"
      ]
    },
    {
      "cell_type": "code",
      "execution_count": null,
      "metadata": {
        "colab": {
          "base_uri": "https://localhost:8080/"
        },
        "id": "s91IEhHtd3EX",
        "outputId": "857b0e37-4460-49f7-8dd8-bd35205fd1c7"
      },
      "outputs": [
        {
          "name": "stdout",
          "output_type": "stream",
          "text": [
            "Berapa porsi makan yang anda beli? : 15\n",
            "Siapa Nama Pelanggan ? : noor\n"
          ]
        }
      ],
      "source": [
        "# berikut ini fungsi untuk menerima input\n",
        "\n",
        "total = input(\"Berapa porsi makan yang anda beli? : \")\n",
        "Nama = input(\"Siapa Nama Pelanggan ? : \")\n"
      ]
    },
    {
      "cell_type": "code",
      "source": [
        "# berikut ini fungsi untuk menerima input sesuai dengan tipe data\n",
        "\n",
        "total = int (input(\"Berapa porsi makan yang anda beli? : \"))\n",
        "Nama = str (input(\"Siapa Nama Pelanggan ? : \"))\n",
        "\n",
        "print()\n",
        "#mengubah menjadi tipe data float\n",
        "\n",
        "total = float (input(\"Berapa porsi makan yang anda beli? : \"))\n",
        "Nama = str (input(\"Siapa Nama Pelanggan ? : \"))\n"
      ],
      "metadata": {
        "colab": {
          "base_uri": "https://localhost:8080/"
        },
        "id": "WxcxF7mSfhFn",
        "outputId": "e74bdc5b-3a65-4b98-cc03-18361e7f0c52"
      },
      "execution_count": null,
      "outputs": [
        {
          "name": "stdout",
          "output_type": "stream",
          "text": [
            "Berapa porsi makan yang anda beli? : 15\n",
            "Siapa Nama Pelanggan ? : noor\n",
            "\n",
            "Berapa porsi makan yang anda beli? : 15\n",
            "Siapa Nama Pelanggan ? : noor\n"
          ]
        }
      ]
    },
    {
      "cell_type": "code",
      "source": [
        "# berikut ini fungsi untuk menampilkan output\n",
        "\n",
        "food = \"Mi ayam bakso\"\n",
        "print(\"Hendi sedang memesan\", food)\n"
      ],
      "metadata": {
        "colab": {
          "base_uri": "https://localhost:8080/"
        },
        "id": "hn9HoQDQgTyB",
        "outputId": "15e7e070-8821-49fc-8291-ea52976352a4"
      },
      "execution_count": null,
      "outputs": [
        {
          "output_type": "stream",
          "name": "stdout",
          "text": [
            "Hendi sedang memesan Mi ayam bakso\n"
          ]
        }
      ]
    },
    {
      "cell_type": "code",
      "source": [
        "# berikut ini fungsi untuk menamplkan output yang di pisakhan dengan karakter\n",
        "\n",
        "food = \"Mi ayam bakso\"\n",
        "print(\"Hendi sedang memesan\", food)\n",
        "print(\"Hendi sedang memesan \"+ food)\n",
        "print(\"Hendi sedang memesan %s\" % (food))\n"
      ],
      "metadata": {
        "colab": {
          "base_uri": "https://localhost:8080/"
        },
        "id": "lVTyUWn2g2gQ",
        "outputId": "e08e19ba-87fa-4739-e595-33912b3bfe7a"
      },
      "execution_count": null,
      "outputs": [
        {
          "output_type": "stream",
          "name": "stdout",
          "text": [
            "Hendi sedang memesan Mi ayam bakso\n",
            "Hendi sedang memesan Mi ayam bakso\n",
            "Hendi sedang memesan Mi ayam bakso\n"
          ]
        }
      ]
    },
    {
      "cell_type": "code",
      "source": [
        "from re import A\n",
        "# contoh penggunaan operator %d untuk integer\n",
        "\n",
        "umur = 20\n",
        "print(\"umur saya tahun ini adalah %d\" % (umur))\n",
        "print()\n",
        "\n",
        "\n",
        "# contoh penggunaan operator %f untuk float\n",
        "\n",
        "tinggi_badan = 158.73\n",
        "print(\"tinggi badan saya saat berumur 20 tahun adalah %.2f\" % (tinggi_badan))\n",
        "print()\n",
        "\n",
        "# contoh penggunaan operator %x untuk hexadesimal\n",
        "\n",
        "angka =  0xA\n",
        "print(\"hasilnya adalah %x\" % (angka))\n",
        "print()\n",
        "\n",
        "# contoh penggunaan operator %o untuk octal\n",
        "\n",
        "angka = 25\n",
        "print(\"hasilnya adalah %o\" % (angka))\n",
        "print()"
      ],
      "metadata": {
        "colab": {
          "base_uri": "https://localhost:8080/"
        },
        "id": "4VrjLeYanNkb",
        "outputId": "b9aa0bcd-4220-46b0-d67f-f78b2c42745f"
      },
      "execution_count": null,
      "outputs": [
        {
          "output_type": "stream",
          "name": "stdout",
          "text": [
            "umur saya tahun ini adalah 20\n",
            "\n",
            "tinggi badan saya saat berumur 20 tahun adalah 158.73\n",
            "\n",
            "hasilnya adalah a\n",
            "\n",
            "hasilnya adalah 31\n",
            "\n"
          ]
        }
      ]
    },
    {
      "cell_type": "code",
      "source": [
        "# contoh input dan output\n",
        "\n",
        "#kalkulator sederhana\n",
        "\n",
        "a = 12\n",
        "b = 8\n",
        "print(\"Penjumlahan:\", a + b)\n",
        "print(\"Pengurangan:\", a - b)\n",
        "print(\"Perkalian:\", a * b)\n",
        "print(\"Pembagian:\", a / b)\n",
        "\n",
        "print()\n",
        "\n",
        "#kalkulator kasir\n",
        "\n",
        "harga_makan = float(input(\"Berapa harga bakso per porsi? \"))\n",
        "jumlah_makan = int(input(\"Berapa porsi yang tika beli? \"))\n",
        "total_makan = harga_makan * jumlah_makan\n",
        "\n",
        "print(f\"Harga makanan per porsi = {harga_makan}, totalnya adalah {total_makan}\")\n",
        "print()\n",
        "\n",
        "# mengecek bilangan\n",
        "\n",
        "bilangan = 8\n",
        "hasil = (bilangan > 0) and (bilangan % 2 == 0)\n",
        "print(\"Genap dan positif?\", hasil)"
      ],
      "metadata": {
        "colab": {
          "base_uri": "https://localhost:8080/"
        },
        "id": "nGimFX44p8VX",
        "outputId": "5172af8b-6cec-4e89-a18f-ff9b07fe2f28"
      },
      "execution_count": 7,
      "outputs": [
        {
          "output_type": "stream",
          "name": "stdout",
          "text": [
            "Penjumlahan: 20\n",
            "Pengurangan: 4\n",
            "Perkalian: 96\n",
            "Pembagian: 1.5\n",
            "\n",
            "Berapa harga bakso per porsi? 20000\n",
            "Berapa porsi yang tika beli? 5\n",
            "Harga makanan per porsi = 20000.0, totalnya adalah 100000.0\n",
            "\n",
            "Genap dan positif? True\n"
          ]
        }
      ]
    },
    {
      "cell_type": "code",
      "source": [
        "# Ekspresi\n",
        "#konversi waktu\n",
        "\n",
        "total_detik = 3600\n",
        "jam = total_detik // 3600\n",
        "sisa_detik = total_detik % 3600\n",
        "menit = sisa_detik // 6\n",
        "detik = sisa_detik % 60\n",
        "print(f\"Hasil konversi: {jam} Jam, {menit} Menit, {detik} detik\")\n",
        "print()\n",
        "\n",
        "# konversinal nilai berikut 358200\n",
        "\n",
        "total_detik = 358200\n",
        "jam = total_detik // 3600\n",
        "sisa_detik = total_detik % 3600\n",
        "menit = sisa_detik // 60\n",
        "detik = sisa_detik % 60\n",
        "print(f\"Hasil konversi: {jam} Jam, {menit} Menit, {detik} detik\")\n",
        "print()"
      ],
      "metadata": {
        "colab": {
          "base_uri": "https://localhost:8080/"
        },
        "id": "wQi7r3E7zObU",
        "outputId": "0b4013be-7199-4878-ef18-950c07202345"
      },
      "execution_count": null,
      "outputs": [
        {
          "output_type": "stream",
          "name": "stdout",
          "text": [
            "Hasil konversi: 1 Jam, 0 Menit, 0 detik\n",
            "\n",
            "Hasil konversi: 99 Jam, 30 Menit, 0 detik\n",
            "\n"
          ]
        }
      ]
    },
    {
      "cell_type": "code",
      "source": [
        "# menghitung nilai akhir mahasiswa\n",
        "\n",
        "tugas = float(input(\"Masukkan nilai tugas: \"))\n",
        "uts = float(input(\"Masukkan nilai uts: \"))\n",
        "uas = float(input(\"Masukkan nilai uas: \"))\n",
        "praktikum = float(input(\"Masukkan nilai praktikum: \"))\n",
        "nilai_akhir = (0.2 * tugas) + (0.3 * uts) + (0.3 * uas) + (0.2 * praktikum)\n",
        "print(\"nilai akhir = %.2f \" % nilai_akhir)\n",
        "print()\n",
        "nilai_mahasiswa = 88\n",
        "standar_kelulusan = 75\n",
        "apakah_lulus = nilai_mahasiswa >= standar_kelulusan\n",
        "perlu_remedial = nilai_mahasiswa < standar_kelulusan\n",
        "print(f\"nilai mahasiswa: {nilai_mahasiswa}\")\n",
        "print(f\"standar kelulusan: {standar_kelulusan}\")\n",
        "print(f\"apakah mahasiswa lulus? {apakah_lulus}\")\n",
        "print(f\"perlu remedial? {perlu_remedial}\")\n"
      ],
      "metadata": {
        "colab": {
          "base_uri": "https://localhost:8080/"
        },
        "id": "B9KudR0f1fiD",
        "outputId": "534afb42-56de-49ad-fe4d-ee4ece8766c3"
      },
      "execution_count": 5,
      "outputs": [
        {
          "output_type": "stream",
          "name": "stdout",
          "text": [
            "Masukkan nilai tugas: 90\n",
            "Masukkan nilai uts: 88\n",
            "Masukkan nilai uas: 86\n",
            "Masukkan nilai praktikum: 77\n",
            "nilai akhir = 85.60 \n",
            "\n",
            "nilai mahasiswa: 88\n",
            "standar kelulusan: 75\n",
            "apakah mahasiswa lulus? True\n",
            "perlu remedial? False\n"
          ]
        }
      ]
    },
    {
      "cell_type": "code",
      "source": [
        "# menghitung nilai akhir mahasiswa\n",
        "\n",
        "belanja = float(input(\"Masukkan total belanja: \"))\n",
        "diskon = (0.35 * belanja) * (belanja > 1000000)\n",
        "(0.1 * belanja) * (belanja > 500000) and (belanja <= 1000000)\n",
        "\n",
        "total_harga = belanja - diskon\n",
        "\n",
        "print(f\"Total Belanja : {belanja}\")\n",
        "print(f\"Diskon : {diskon}\")\n",
        "print(f\"Total bayar : {total_harga}\")"
      ],
      "metadata": {
        "colab": {
          "base_uri": "https://localhost:8080/"
        },
        "id": "m0_p_QVocgfN",
        "outputId": "ae4bf04d-e528-4873-c189-e1da38a8eea8"
      },
      "execution_count": 18,
      "outputs": [
        {
          "output_type": "stream",
          "name": "stdout",
          "text": [
            "Masukkan total belanja: 850000\n",
            "Total Belanja : 850000.0\n",
            "Diskon : 0.0\n",
            "Total bayar : 850000.0\n"
          ]
        }
      ]
    }
  ]
}