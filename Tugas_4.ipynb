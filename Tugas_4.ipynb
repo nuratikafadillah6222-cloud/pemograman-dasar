{
  "nbformat": 4,
  "nbformat_minor": 0,
  "metadata": {
    "colab": {
      "provenance": [],
      "authorship_tag": "ABX9TyP80WnQZgr4kPKP6jHeMIth",
      "include_colab_link": true
    },
    "kernelspec": {
      "name": "python3",
      "display_name": "Python 3"
    },
    "language_info": {
      "name": "python"
    }
  },
  "cells": [
    {
      "cell_type": "markdown",
      "metadata": {
        "id": "view-in-github",
        "colab_type": "text"
      },
      "source": [
        "<a href=\"https://colab.research.google.com/github/nuratikafadillah6222-cloud/pemograman-dasar/blob/main/Tugas_4.ipynb\" target=\"_parent\"><img src=\"https://colab.research.google.com/assets/colab-badge.svg\" alt=\"Open In Colab\"/></a>"
      ]
    },
    {
      "cell_type": "code",
      "execution_count": 2,
      "metadata": {
        "id": "_GBf8b1O-snX",
        "colab": {
          "base_uri": "https://localhost:8080/"
        },
        "outputId": "fbaae951-227e-4793-eb74-53ca6bf387f3"
      },
      "outputs": [
        {
          "output_type": "stream",
          "name": "stdout",
          "text": [
            "==============================\n",
            "SELAMAT DATANG DI KAFE GEMINI\n",
            "==============================\n",
            "Menu Makanan & Minuman:\n",
            "1. Kopi Hitam   Rp 12.000\n",
            "2. Teh Manis    Rp 8.000\n",
            "3. Roti Bakar   Rp 15.000\n",
            "4. Mie Instan   Rp 10.000\n",
            "==============================\n",
            "Silakan masukkan nomor pilihan Anda (1-4): 4\n",
            "Anda memesan Mie Instan dengan harga Rp 10000\n",
            "\n",
            "Kategori Diskon:\n",
            "1. Diskon 70%\n",
            "2. Diskon 50%\n",
            "3. Diskon 30%\n",
            "Pilih kategori diskon (1-3): 2\n",
            "\n",
            "Harga sebelum diskon : Rp 10000\n",
            "Potongan diskon      : Rp 5000.0\n",
            "Total yang harus dibayar: Rp 5000.0\n",
            "\n",
            "Masukkan jumlah uang Anda: Rp 15000\n",
            "\n",
            "=== Struk Pembelian ===\n",
            "Pesanan Anda      : Mie Instan\n",
            "Total Bayar       : Rp 5000.0\n",
            "Uang Dibayar      : Rp 15000\n",
            "Kembalian         : Rp 10000.0\n",
            "=======================\n",
            "Terima kasih telah berbelanja :)\n"
          ]
        }
      ],
      "source": [
        "print(\"=\"*30)\n",
        "print(\"SELAMAT DATANG DI KAFE GEMINI\")\n",
        "print(\"=\"*30)\n",
        "print(\"Menu Makanan & Minuman:\")\n",
        "print(\"1. Kopi Hitam   Rp 12.000\")\n",
        "print(\"2. Teh Manis    Rp 8.000\")\n",
        "print(\"3. Roti Bakar   Rp 15.000\")\n",
        "print(\"4. Mie Instan   Rp 10.000\")\n",
        "print(\"=\"*30)\n",
        "\n",
        "pilihan_str = input(\"Silakan masukkan nomor pilihan Anda (1-4): \")\n",
        "pilihan = int(pilihan_str)\n",
        "nama_pesanan = \"\"\n",
        "harga = 0\n",
        "\n",
        "if pilihan == 1:\n",
        "    nama_pesanan = \"Kopi Hitam\"\n",
        "    harga = 12000\n",
        "elif pilihan == 2:\n",
        "    nama_pesanan = \"Teh Manis\"\n",
        "    harga = 8000\n",
        "elif pilihan == 3:\n",
        "    nama_pesanan = \"Roti Bakar\"\n",
        "    harga = 15000\n",
        "elif pilihan == 4:\n",
        "    nama_pesanan = \"Mie Instan\"\n",
        "    harga = 10000\n",
        "else:\n",
        "    print(\"Maaf, pilihan menu tidak valid.\")\n",
        "    exit()\n",
        "\n",
        "print(f\"Anda memesan {nama_pesanan} dengan harga Rp {harga}\")\n",
        "\n",
        "# Penerapan Diskon\n",
        "print(\"\\nKategori Diskon:\")\n",
        "print(\"1. Diskon 70%\")\n",
        "print(\"2. Diskon 50%\")\n",
        "print(\"3. Diskon 30%\")\n",
        "\n",
        "pilihan_diskon = int(input(\"Pilih kategori diskon (1-3): \"))\n",
        "\n",
        "if pilihan_diskon == 1:\n",
        "    diskon = 0.7\n",
        "elif pilihan_diskon == 2:\n",
        "    diskon = 0.5\n",
        "elif pilihan_diskon == 3:\n",
        "    diskon = 0.3\n",
        "else:\n",
        "    diskon = 0\n",
        "\n",
        "potongan = harga * diskon\n",
        "total_bayar = harga - potongan\n",
        "\n",
        "print(f\"\\nHarga sebelum diskon : Rp {harga}\")\n",
        "print(f\"Potongan diskon      : Rp {potongan}\")\n",
        "print(f\"Total yang harus dibayar: Rp {total_bayar}\")\n",
        "\n",
        "# Pembayaran\n",
        "uang_dibayar = int(input(\"\\nMasukkan jumlah uang Anda: Rp \"))\n",
        "if uang_dibayar >= total_bayar:\n",
        "    kembalian = uang_dibayar - total_bayar\n",
        "    print(f\"\\n=== Struk Pembelian ===\")\n",
        "    print(f\"Pesanan Anda      : {nama_pesanan}\")\n",
        "    print(f\"Total Bayar       : Rp {total_bayar}\")\n",
        "    print(f\"Uang Dibayar      : Rp {uang_dibayar}\")\n",
        "    print(f\"Kembalian         : Rp {kembalian}\")\n",
        "    print(\"=======================\")\n",
        "    print(\"Terima kasih telah berbelanja :)\")\n",
        "else:\n",
        "    kurang = total_bayar - uang_dibayar\n",
        "    print(f\"Maaf, uang Anda kurang sebesar Rp {kurang}\")\n"
      ]
    }
  ]
}