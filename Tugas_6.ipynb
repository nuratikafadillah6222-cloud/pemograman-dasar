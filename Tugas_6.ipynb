{
  "nbformat": 4,
  "nbformat_minor": 0,
  "metadata": {
    "colab": {
      "provenance": [],
      "authorship_tag": "ABX9TyMfS3NpgL6CaBNNRXHyVq58",
      "include_colab_link": true
    },
    "kernelspec": {
      "name": "python3",
      "display_name": "Python 3"
    },
    "language_info": {
      "name": "python"
    }
  },
  "cells": [
    {
      "cell_type": "markdown",
      "metadata": {
        "id": "view-in-github",
        "colab_type": "text"
      },
      "source": [
        "<a href=\"https://colab.research.google.com/github/nuratikafadillah6222-cloud/pemograman-dasar/blob/main/Tugas_6.ipynb\" target=\"_parent\"><img src=\"https://colab.research.google.com/assets/colab-badge.svg\" alt=\"Open In Colab\"/></a>"
      ]
    },
    {
      "cell_type": "code",
      "execution_count": 1,
      "metadata": {
        "id": "D8smy9u3jJ2S"
      },
      "outputs": [],
      "source": [
        "def salam():\n",
        "    print(\"Halo, selamat datang di Wikidi!\")"
      ]
    },
    {
      "cell_type": "code",
      "source": [
        "def pengelola_nilai():\n",
        "    # Data awal\n",
        "    siswa = [\"Atika\", \"Fathir\", \"Resa\", \"Noor\"]\n",
        "    nilai = (85, 90, 70, 95)  # tuple (tidak bisa diubah)\n",
        "    data_nilai = dict(zip(siswa, nilai))  # dictionary dari nama dan nilai\n",
        "    predikat_set = set()  # set untuk menyimpan predikat unik\n",
        "\n",
        "    # Perulangan for untuk menampilkan nilai\n",
        "    print(\"=== Data Nilai Siswa ===\")\n",
        "    for nama, skor in data_nilai.items():\n",
        "        # Percabangan untuk menentukan predikat\n",
        "        if skor >= 90:\n",
        "            predikat = \"A\"\n",
        "        elif skor >= 80:\n",
        "            predikat = \"B\"\n",
        "        elif skor >= 70:\n",
        "            predikat = \"C\"\n",
        "        else:\n",
        "            predikat = \"D\"\n",
        "        predikat_set.add(predikat)\n",
        "        print(f\"{nama}: {skor} ({predikat})\")\n",
        "\n",
        "    # Menghitung rata-rata\n",
        "    rata_rata = sum(nilai) / len(nilai)\n",
        "    print(\"\\nRata-rata nilai:\", rata_rata)\n",
        "\n",
        "    # Perulangan while untuk validasi input pengguna\n",
        "    ulang = True\n",
        "    while ulang:\n",
        "        nama_cari = input(\"\\nMasukkan nama siswa yang ingin dicari: \")\n",
        "        if nama_cari in data_nilai:\n",
        "            print(f\"Nilai {nama_cari} adalah {data_nilai[nama_cari]}\")\n",
        "        else:\n",
        "            print(\"Nama tidak ditemukan.\")\n",
        "\n",
        "        jawab = input(\"Ingin mencari lagi? (ya/tidak): \").lower()\n",
        "        if jawab != \"ya\":\n",
        "            ulang = False\n",
        "\n",
        "    # Tampilkan predikat unik yang muncul\n",
        "    print(\"\\nPredikat yang muncul:\", predikat_set)\n",
        "    print(\"Program selesai. Terima kasih!\")\n",
        "\n",
        "# Panggil fungsi\n",
        "pengelola_nilai()\n"
      ],
      "metadata": {
        "colab": {
          "base_uri": "https://localhost:8080/"
        },
        "id": "ycs-3lOcG48W",
        "outputId": "9e2290ae-ddb3-4876-9810-1ef33c1f27c9"
      },
      "execution_count": 2,
      "outputs": [
        {
          "output_type": "stream",
          "name": "stdout",
          "text": [
            "=== Data Nilai Siswa ===\n",
            "Atika: 85 (B)\n",
            "Fathir: 90 (A)\n",
            "Resa: 70 (C)\n",
            "Noor: 95 (A)\n",
            "\n",
            "Rata-rata nilai: 85.0\n",
            "\n",
            "Masukkan nama siswa yang ingin dicari: Fathir\n",
            "Nilai Fathir adalah 90\n",
            "Ingin mencari lagi? (ya/tidak): ya\n",
            "\n",
            "Masukkan nama siswa yang ingin dicari: Atika\n",
            "Nilai Atika adalah 85\n",
            "Ingin mencari lagi? (ya/tidak): ya\n",
            "\n",
            "Masukkan nama siswa yang ingin dicari: Resa\n",
            "Nilai Resa adalah 70\n",
            "Ingin mencari lagi? (ya/tidak): tidak\n",
            "\n",
            "Predikat yang muncul: {'A', 'B', 'C'}\n",
            "Program selesai. Terima kasih!\n"
          ]
        }
      ]
    }
  ]
}