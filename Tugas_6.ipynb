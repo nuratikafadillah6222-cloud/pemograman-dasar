{
  "nbformat": 4,
  "nbformat_minor": 0,
  "metadata": {
    "colab": {
      "provenance": [],
      "authorship_tag": "ABX9TyNVZUOLGKpqdgy2RdXaLBZn",
      "include_colab_link": true
    },
    "kernelspec": {
      "name": "python3",
      "display_name": "Python 3"
    },
    "language_info": {
      "name": "python"
    }
  },
  "cells": [
    {
      "cell_type": "markdown",
      "metadata": {
        "id": "view-in-github",
        "colab_type": "text"
      },
      "source": [
        "<a href=\"https://colab.research.google.com/github/nuratikafadillah6222-cloud/pemograman-dasar/blob/main/Tugas_6.ipynb\" target=\"_parent\"><img src=\"https://colab.research.google.com/assets/colab-badge.svg\" alt=\"Open In Colab\"/></a>"
      ]
    },
    {
      "cell_type": "code",
      "execution_count": 5,
      "metadata": {
        "id": "D8smy9u3jJ2S"
      },
      "outputs": [],
      "source": [
        "def salam():\n",
        "    print(\"Halo, selamat datang di Wikidi!\")"
      ]
    },
    {
      "cell_type": "code",
      "source": [
        "# Tipe data non-primitif\n",
        "siswa = [\"Atika\", \"Fathir\", \"Arum\", \"Syahira\"]     # List\n",
        "nilai = (85, 90, 75, 95)                      # Tuple\n",
        "data_nilai = dict(zip(siswa, nilai))          # Dictionary\n",
        "predikat_set = set()                          # Set untuk menyimpan predikat unik\n",
        "\n",
        "# Tipe data primitif\n",
        "print(\"=== DATA NILAI SISWA ===\")\n",
        "rata = sum(nilai) / len(nilai)  # Menghitung rata-rata (int dan float)\n",
        "\n",
        "# Perulangan for untuk menampilkan data siswa\n",
        "for nama, skor in data_nilai.items():\n",
        "    if skor >= 90:\n",
        "        predikat = \"A\"\n",
        "    elif skor >= 80:\n",
        "        predikat = \"B\"\n",
        "    elif skor >= 70:\n",
        "        predikat = \"C\"\n",
        "    else:\n",
        "        predikat = \"D\"\n",
        "\n",
        "    predikat_set.add(predikat)  # Menyimpan predikat ke dalam set\n",
        "    print(f\"{nama}: {skor} ({predikat})\")\n",
        "\n",
        "# Menampilkan rata-rata nilai\n",
        "print(\"\\nRata-rata nilai kelas:\", rata)\n",
        "\n",
        "# Perulangan while untuk mencari nilai siswa\n",
        "ulang = True  # boolean\n",
        "while ulang:\n",
        "    cari = input(\"\\nMasukkan nama siswa yang ingin dicari: \")\n",
        "    if cari in data_nilai:\n",
        "        print(f\"Nilai {cari} adalah {data_nilai[cari]}\")\n",
        "    else:\n",
        "        print(\"Nama tidak ditemukan dalam data.\")\n",
        "\n",
        "    lagi = input(\"Apakah ingin mencari lagi? (ya/tidak): \").lower()\n",
        "    if lagi != \"ya\":\n",
        "        ulang = False  # ubah boolean agar perulangan berhenti\n",
        "\n",
        "# Menampilkan semua predikat unik\n",
        "print(\"\\nPredikat yang muncul di kelas:\", predikat_set)\n",
        "print(\"Program selesai, terima kasih!\")\n"
      ],
      "metadata": {
        "colab": {
          "base_uri": "https://localhost:8080/"
        },
        "id": "WMhNtS9Kz4s6",
        "outputId": "f39a1bae-dc0b-4379-e7ae-b0edca9c3f6e"
      },
      "execution_count": 8,
      "outputs": [
        {
          "output_type": "stream",
          "name": "stdout",
          "text": [
            "=== DATA NILAI SISWA ===\n",
            "Atika: 85 (B)\n",
            "Fathir: 90 (A)\n",
            "Arum: 75 (C)\n",
            "Syahira: 95 (A)\n",
            "\n",
            "Rata-rata nilai kelas: 86.25\n",
            "\n",
            "Masukkan nama siswa yang ingin dicari: Fathir\n",
            "Nilai Fathir adalah 90\n",
            "Apakah ingin mencari lagi? (ya/tidak): ya\n",
            "\n",
            "Masukkan nama siswa yang ingin dicari: Atika\n",
            "Nilai Atika adalah 85\n",
            "Apakah ingin mencari lagi? (ya/tidak): tidak\n",
            "\n",
            "Predikat yang muncul di kelas: {'A', 'B', 'C'}\n",
            "Program selesai, terima kasih!\n"
          ]
        }
      ]
    }
  ]
}