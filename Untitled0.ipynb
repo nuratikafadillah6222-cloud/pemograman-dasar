{
  "nbformat": 4,
  "nbformat_minor": 0,
  "metadata": {
    "colab": {
      "provenance": [],
      "authorship_tag": "ABX9TyMG0f1dCt03x5f2YrHXiQju",
      "include_colab_link": true
    },
    "kernelspec": {
      "name": "python3",
      "display_name": "Python 3"
    },
    "language_info": {
      "name": "python"
    }
  },
  "cells": [
    {
      "cell_type": "markdown",
      "metadata": {
        "id": "view-in-github",
        "colab_type": "text"
      },
      "source": [
        "<a href=\"https://colab.research.google.com/github/nuratikafadillah6222-cloud/pemograman-dasar/blob/main/Untitled0.ipynb\" target=\"_parent\"><img src=\"https://colab.research.google.com/assets/colab-badge.svg\" alt=\"Open In Colab\"/></a>"
      ]
    },
    {
      "cell_type": "code",
      "execution_count": 5,
      "metadata": {
        "colab": {
          "base_uri": "https://localhost:8080/"
        },
        "id": "cMACsZOBa9t5",
        "outputId": "313ae0a4-eb99-48ad-e60f-80074927e879"
      },
      "outputs": [
        {
          "output_type": "stream",
          "name": "stdout",
          "text": [
            "Nur Atika Fadillah\n",
            "19\n",
            "RPE\n",
            "3\n",
            "Pemerograman Dasar\n",
            "False\n",
            "<class 'str'>\n",
            "<class 'int'>\n",
            "<class 'str'>\n",
            "<class 'int'>\n",
            "<class 'str'>\n",
            "<class 'bool'>\n"
          ]
        }
      ],
      "source": [
        "# 1. Biodata saya\n",
        "\n",
        "nama = \"Nur Atika Fadillah\"\n",
        "umur = 19\n",
        "jurusan = \"RPE\"\n",
        "semester = 3\n",
        "matakuliah = 'Pemerograman Dasar'\n",
        "status_lulus = False\n",
        "\n",
        "# 2. Menampilkan data\n",
        "\n",
        "print (nama)\n",
        "print (umur)\n",
        "print (jurusan)\n",
        "print (semester)\n",
        "print (matakuliah)\n",
        "print (status_lulus)\n",
        "\n",
        "# 3. Menampilkan jenis tipe data\n",
        "\n",
        "print (type(nama))\n",
        "print (type(umur))\n",
        "print (type(jurusan))\n",
        "print (type(semester))\n",
        "print (type(matakuliah))\n",
        "print (type(status_lulus))\n",
        "\n"
      ]
    }
  ]
}