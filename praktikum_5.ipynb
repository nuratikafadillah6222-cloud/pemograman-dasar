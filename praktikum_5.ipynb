{
  "nbformat": 4,
  "nbformat_minor": 0,
  "metadata": {
    "colab": {
      "provenance": [],
      "authorship_tag": "ABX9TyMb4qQupbljSndkIWJrEAaQ",
      "include_colab_link": true
    },
    "kernelspec": {
      "name": "python3",
      "display_name": "Python 3"
    },
    "language_info": {
      "name": "python"
    }
  },
  "cells": [
    {
      "cell_type": "markdown",
      "metadata": {
        "id": "view-in-github",
        "colab_type": "text"
      },
      "source": [
        "<a href=\"https://colab.research.google.com/github/nuratikafadillah6222-cloud/pemograman-dasar/blob/main/praktikum_5.ipynb\" target=\"_parent\"><img src=\"https://colab.research.google.com/assets/colab-badge.svg\" alt=\"Open In Colab\"/></a>"
      ]
    },
    {
      "cell_type": "code",
      "execution_count": null,
      "metadata": {
        "colab": {
          "base_uri": "https://localhost:8080/"
        },
        "id": "GnD60JzgmJw1",
        "outputId": "4b758f9a-cb8d-453e-f677-7082767207a6"
      },
      "outputs": [
        {
          "output_type": "stream",
          "name": "stdout",
          "text": [
            "--- Soal 1 ---\n",
            "1\n",
            "3\n",
            "5\n",
            "7\n",
            "9\n",
            "\n",
            "--- Soal 1 (Modifikasi) ---\n",
            "2\n",
            "4\n",
            "6\n",
            "8\n",
            "10\n",
            "12\n",
            "14\n",
            "16\n",
            "18\n",
            "20\n",
            "22\n",
            "24\n",
            "26\n",
            "28\n",
            "30\n",
            "32\n",
            "34\n",
            "36\n",
            "38\n",
            "40\n",
            "42\n",
            "44\n",
            "46\n",
            "48\n",
            "50\n"
          ]
        }
      ],
      "source": [
        "# Soal 1\n",
        "\n",
        "print(\"--- Soal 1 ---\")\n",
        "# Mencetak bilangan ganjil 1 hingga 9\n",
        "for angka in range(1, 10, 2):\n",
        "    print(angka)\n",
        "\n",
        "print()\n",
        "\n",
        "# Versi modifikasi saya\n",
        "print(\"--- Soal 1 (Modifikasi) ---\")\n",
        "# Mencetak bilangan genap 1 hingga 50\n",
        "for angka in range(2, 51, 2):\n",
        "    print(angka)\n"
      ]
    },
    {
      "cell_type": "code",
      "source": [
        "# soal 2\n",
        "\n",
        "print(\"--- Soal 2 ---\")\n",
        "kode_berhenti = 99\n",
        "input_pengguna = 0 # Inisialisasi awal\n",
        "\n",
        "while input_pengguna != kode_berhenti:\n",
        "    try:\n",
        "        input_pengguna = int(input(\"Masukkan angka (99 untuk berhenti): \"))\n",
        "    except ValueError:\n",
        "        print(\"Input tidak valid. Harap masukkan angka.\")\n",
        "\n",
        "print(\"Perulangan telah dihentikan oleh sentinel (99).\")\n",
        "\n",
        "print()\n",
        "\n",
        "# versi modifikasi saya\n",
        "\n",
        "print(\"--- Soal 2 (Modifikasi) ---\")\n",
        "kode_berhenti = \"4232401028\"\n",
        "input_pengguna = \"\"  # Inisialisasi awal\n",
        "\n",
        "while input_pengguna != kode_berhenti:\n",
        "    input_pengguna = input(\"Masukkan angka (atau NIM untuk berhenti): \")\n",
        "\n",
        "    if not input_pengguna.isdigit():\n",
        "        print(\"Input tidak valid. Harap masukkan angka atau NIM.\")\n",
        "    elif input_pengguna == kode_berhenti:\n",
        "        break\n",
        "\n",
        "print(\"Perulangan telah dihentikan oleh NIM:\", kode_berhenti)\n",
        "\n",
        "\n"
      ],
      "metadata": {
        "colab": {
          "base_uri": "https://localhost:8080/"
        },
        "id": "E95Ex8Zcn5Qt",
        "outputId": "566b3076-e559-4ed2-95aa-9405afdb3a6f"
      },
      "execution_count": null,
      "outputs": [
        {
          "output_type": "stream",
          "name": "stdout",
          "text": [
            "--- Soal 2 ---\n",
            "Masukkan angka (99 untuk berhenti): 5\n",
            "Masukkan angka (99 untuk berhenti): 10\n",
            "Masukkan angka (99 untuk berhenti): 7\n",
            "Masukkan angka (99 untuk berhenti): 99\n",
            "Perulangan telah dihentikan oleh sentinel (99).\n",
            "\n",
            "--- Soal 2 (Modifikasi) ---\n",
            "Masukkan angka (atau NIM untuk berhenti): 7568393\n",
            "Masukkan angka (atau NIM untuk berhenti): 210906\n",
            "Masukkan angka (atau NIM untuk berhenti): 220206\n",
            "Masukkan angka (atau NIM untuk berhenti): 4232401028\n",
            "Perulangan telah dihentikan oleh NIM: 4232401028\n"
          ]
        }
      ]
    },
    {
      "cell_type": "code",
      "source": [
        "# soal 3\n",
        "\n",
        "print(\"--- Soal 3 ---\")\n",
        "harga_barang = [15000, 25000, 10000, 5000]\n",
        "total_belanja = 0\n",
        "\n",
        "for harga in harga_barang:\n",
        "    total_belanja += harga\n",
        "\n",
        "print(\"Total biaya belanja adalah:\", total_belanja)\n",
        "\n",
        "print()\n",
        "\n",
        "# versi modivikasi saya\n",
        "\n",
        "print(\"--- Soal 3 (Modifikasi Minimal 10 Item) ---\")\n",
        "\n",
        "# Daftar harga barang minimal 10 item\n",
        "harga_barang = [5000, 10000, 15000, 20000, 25000, 30000, 12000, 8000, 6000, 40000]\n",
        "\n",
        "total_belanja = 0\n",
        "\n",
        "# Menjumlahkan semua harga barang\n",
        "for harga in harga_barang:\n",
        "    total_belanja += harga\n",
        "\n",
        "print(\"Daftar harga barang:\", harga_barang)\n",
        "print(\"Total biaya belanja adalah:\", total_belanja)\n",
        "\n"
      ],
      "metadata": {
        "colab": {
          "base_uri": "https://localhost:8080/"
        },
        "id": "YvAPiyO0pOiR",
        "outputId": "72913b11-0045-4ca6-eaad-2886d0013da6"
      },
      "execution_count": null,
      "outputs": [
        {
          "output_type": "stream",
          "name": "stdout",
          "text": [
            "--- Soal 3 ---\n",
            "Total biaya belanja adalah: 55000\n",
            "\n",
            "--- Soal 3 (Modifikasi Minimal 10 Item) ---\n",
            "Daftar harga barang: [5000, 10000, 15000, 20000, 25000, 30000, 12000, 8000, 6000, 40000]\n",
            "Total biaya belanja adalah: 171000\n"
          ]
        }
      ]
    },
    {
      "cell_type": "code",
      "source": [
        "# soal 4\n",
        "\n",
        "print(\"--- Soal 4 ---\")\n",
        "percobaan_maksimal = 3\n",
        "percobaan_saat_ini = 1\n",
        "\n",
        "\n",
        "while percobaan_saat_ini <= percobaan_maksimal:\n",
        "    print(f\"Percobaan ke-{percobaan_saat_ini}...\")\n",
        "    # Asumsi ada logika input password di sini\n",
        "    percobaan_saat_ini += 1\n",
        "\n",
        "if percobaan_saat_ini == percobaan_maksimal + 1:\n",
        "    print(\"Kesempatan habis.\")\n",
        "else:\n",
        "    print(\"Akses diterima.\")"
      ],
      "metadata": {
        "colab": {
          "base_uri": "https://localhost:8080/"
        },
        "id": "YYY7NTUTtzRB",
        "outputId": "53765fb6-441c-4668-aece-68130d50fd73"
      },
      "execution_count": null,
      "outputs": [
        {
          "output_type": "stream",
          "name": "stdout",
          "text": [
            "--- Soal 4 ---\n",
            "Percobaan ke-1...\n",
            "Percobaan ke-2...\n",
            "Percobaan ke-3...\n",
            "Kesempatan habis.\n"
          ]
        }
      ]
    },
    {
      "cell_type": "code",
      "source": [
        "# soal 5\n",
        "\n",
        "print(\"--- Soal 5 ---\")\n",
        "nama_proyek = \"PRAKTIKUM\"\n",
        "hasil_output = \"\"\n",
        "\n",
        "for karakter in nama_proyek:\n",
        "    hasil_output += karakter + \"-\"\n",
        "\n",
        "print(hasil_output) # Output: P-R-A-K-T-I-K-U-M-\n",
        "\n",
        "print()\n",
        "\n",
        "# versi modifikasi saya\n",
        "\n",
        "print(\"--- Soal 5 (Modifikasi) ---\")\n",
        "nama_proyek = \"Politeknik Negeri Batam\"\n",
        "hasil_output = \"\"\n",
        "\n",
        "for karakter in nama_proyek:\n",
        "    hasil_output += karakter + \"-\"\n",
        "\n",
        "print(hasil_output)\n",
        "\n"
      ],
      "metadata": {
        "colab": {
          "base_uri": "https://localhost:8080/"
        },
        "id": "EuHCLgHxvDlb",
        "outputId": "b71c9443-4eec-4dfe-f957-5207dda68b3b"
      },
      "execution_count": null,
      "outputs": [
        {
          "output_type": "stream",
          "name": "stdout",
          "text": [
            "--- Soal 5 ---\n",
            "P-R-A-K-T-I-K-U-M-\n",
            "\n",
            "--- Soal 5 (Modifikasi) ---\n",
            "P-o-l-i-t-e-k-n-i-k- -N-e-g-e-r-i- -B-a-t-a-m-\n"
          ]
        }
      ]
    },
    {
      "cell_type": "code",
      "source": [
        "# soal 6\n",
        "\n",
        "print(\"--- Soal 6 ---\")\n",
        "# Countdown dari 5 ke 1\n",
        "for i in range(5, 0, -1):\n",
        "    print(i)\n",
        "\n",
        "print()\n",
        "# versi modifikasi saya\n",
        "\n",
        "print(\"--- Soal 6 (Modifikasi) ---\")\n",
        "# Countdown dari 255 ke 1\n",
        "for i in range(255, 0, -1):\n",
        "    print(i)\n"
      ],
      "metadata": {
        "colab": {
          "base_uri": "https://localhost:8080/"
        },
        "id": "2tDW0i-yveI7",
        "outputId": "aac203bb-b70d-4739-cb2f-2e705330e461"
      },
      "execution_count": null,
      "outputs": [
        {
          "output_type": "stream",
          "name": "stdout",
          "text": [
            "--- Soal 6 ---\n",
            "5\n",
            "4\n",
            "3\n",
            "2\n",
            "1\n",
            "\n",
            "--- Soal 6 (Modifikasi) ---\n",
            "255\n",
            "254\n",
            "253\n",
            "252\n",
            "251\n",
            "250\n",
            "249\n",
            "248\n",
            "247\n",
            "246\n",
            "245\n",
            "244\n",
            "243\n",
            "242\n",
            "241\n",
            "240\n",
            "239\n",
            "238\n",
            "237\n",
            "236\n",
            "235\n",
            "234\n",
            "233\n",
            "232\n",
            "231\n",
            "230\n",
            "229\n",
            "228\n",
            "227\n",
            "226\n",
            "225\n",
            "224\n",
            "223\n",
            "222\n",
            "221\n",
            "220\n",
            "219\n",
            "218\n",
            "217\n",
            "216\n",
            "215\n",
            "214\n",
            "213\n",
            "212\n",
            "211\n",
            "210\n",
            "209\n",
            "208\n",
            "207\n",
            "206\n",
            "205\n",
            "204\n",
            "203\n",
            "202\n",
            "201\n",
            "200\n",
            "199\n",
            "198\n",
            "197\n",
            "196\n",
            "195\n",
            "194\n",
            "193\n",
            "192\n",
            "191\n",
            "190\n",
            "189\n",
            "188\n",
            "187\n",
            "186\n",
            "185\n",
            "184\n",
            "183\n",
            "182\n",
            "181\n",
            "180\n",
            "179\n",
            "178\n",
            "177\n",
            "176\n",
            "175\n",
            "174\n",
            "173\n",
            "172\n",
            "171\n",
            "170\n",
            "169\n",
            "168\n",
            "167\n",
            "166\n",
            "165\n",
            "164\n",
            "163\n",
            "162\n",
            "161\n",
            "160\n",
            "159\n",
            "158\n",
            "157\n",
            "156\n",
            "155\n",
            "154\n",
            "153\n",
            "152\n",
            "151\n",
            "150\n",
            "149\n",
            "148\n",
            "147\n",
            "146\n",
            "145\n",
            "144\n",
            "143\n",
            "142\n",
            "141\n",
            "140\n",
            "139\n",
            "138\n",
            "137\n",
            "136\n",
            "135\n",
            "134\n",
            "133\n",
            "132\n",
            "131\n",
            "130\n",
            "129\n",
            "128\n",
            "127\n",
            "126\n",
            "125\n",
            "124\n",
            "123\n",
            "122\n",
            "121\n",
            "120\n",
            "119\n",
            "118\n",
            "117\n",
            "116\n",
            "115\n",
            "114\n",
            "113\n",
            "112\n",
            "111\n",
            "110\n",
            "109\n",
            "108\n",
            "107\n",
            "106\n",
            "105\n",
            "104\n",
            "103\n",
            "102\n",
            "101\n",
            "100\n",
            "99\n",
            "98\n",
            "97\n",
            "96\n",
            "95\n",
            "94\n",
            "93\n",
            "92\n",
            "91\n",
            "90\n",
            "89\n",
            "88\n",
            "87\n",
            "86\n",
            "85\n",
            "84\n",
            "83\n",
            "82\n",
            "81\n",
            "80\n",
            "79\n",
            "78\n",
            "77\n",
            "76\n",
            "75\n",
            "74\n",
            "73\n",
            "72\n",
            "71\n",
            "70\n",
            "69\n",
            "68\n",
            "67\n",
            "66\n",
            "65\n",
            "64\n",
            "63\n",
            "62\n",
            "61\n",
            "60\n",
            "59\n",
            "58\n",
            "57\n",
            "56\n",
            "55\n",
            "54\n",
            "53\n",
            "52\n",
            "51\n",
            "50\n",
            "49\n",
            "48\n",
            "47\n",
            "46\n",
            "45\n",
            "44\n",
            "43\n",
            "42\n",
            "41\n",
            "40\n",
            "39\n",
            "38\n",
            "37\n",
            "36\n",
            "35\n",
            "34\n",
            "33\n",
            "32\n",
            "31\n",
            "30\n",
            "29\n",
            "28\n",
            "27\n",
            "26\n",
            "25\n",
            "24\n",
            "23\n",
            "22\n",
            "21\n",
            "20\n",
            "19\n",
            "18\n",
            "17\n",
            "16\n",
            "15\n",
            "14\n",
            "13\n",
            "12\n",
            "11\n",
            "10\n",
            "9\n",
            "8\n",
            "7\n",
            "6\n",
            "5\n",
            "4\n",
            "3\n",
            "2\n",
            "1\n"
          ]
        }
      ]
    },
    {
      "cell_type": "code",
      "source": [
        "# soal 7\n",
        "\n",
        "print(\"--- Soal 7 ---\")\n",
        "bulan = [\"Januari\", \"Februari\", \"Maret\", \"April\"]\n",
        "\n",
        "for i, nama in enumerate(bulan):\n",
        "    # i adalah indeks, nama adalah elemen\n",
        "    print(f\"Bulan ke-{i + 1}: {nama}\")\n",
        "\n",
        "print()\n",
        "\n",
        "# versi modifikasi saya\n",
        "\n",
        "print(\"--- Soal 7 (Modifikasi) ---\")\n",
        "kelurahan = [\"Baloi Permai\", \"Bengkong Indah\", \"Batubesar\", \"Belian\", \"Tanjung Uma\", \"Teluk Tering\"]\n",
        "\n",
        "for i, nama in enumerate(kelurahan):\n",
        "    # i adalah indeks, nama adalah elemen\n",
        "    print(f\"Kelurahan ke-{i + 1}: {nama}\")\n"
      ],
      "metadata": {
        "colab": {
          "base_uri": "https://localhost:8080/"
        },
        "id": "FHq7X9nxwVss",
        "outputId": "2901d244-5ea3-4159-9bf8-c40c015a75ce"
      },
      "execution_count": null,
      "outputs": [
        {
          "output_type": "stream",
          "name": "stdout",
          "text": [
            "--- Soal 7 ---\n",
            "Bulan ke-1: Januari\n",
            "Bulan ke-2: Februari\n",
            "Bulan ke-3: Maret\n",
            "Bulan ke-4: April\n",
            "\n",
            "--- Soal 7 (Modifikasi) ---\n",
            "Kelurahan ke-1: Baloi Permai\n",
            "Kelurahan ke-2: Bengkong Indah\n",
            "Kelurahan ke-3: Batubesar\n",
            "Kelurahan ke-4: Belian\n",
            "Kelurahan ke-5: Tanjung Uma\n",
            "Kelurahan ke-6: Teluk Tering\n"
          ]
        }
      ]
    },
    {
      "cell_type": "code",
      "source": [
        "# soal 8\n",
        "\n",
        "print(\"--- Soal 8 ---\")\n",
        "data_angka = [10, 20, 30, -1, 50, 60]\n",
        "\n",
        "for angka in data_angka:\n",
        "    if angka -1:\n",
        "        break\n",
        "    print(angka)\n",
        "\n",
        "print(\"Program berhenti karena angka -1 ditemukan.\")\n",
        "\n",
        "print()\n",
        "\n",
        "# versi modifikasi saya\n",
        "\n",
        "print(\"--- Soal 8 (Modifikasi) ---\")\n",
        "data_angka = [10, 20, 30, 0, 50, 60]\n",
        "\n",
        "for angka in data_angka:\n",
        "    if angka == 0:\n",
        "        break\n",
        "    print(angka)\n",
        "\n",
        "print(\"Program berhenti karena angka 0 ditemukan.\")\n"
      ],
      "metadata": {
        "colab": {
          "base_uri": "https://localhost:8080/"
        },
        "id": "UUYw6ktBxYxd",
        "outputId": "0b262a66-012c-443c-b74a-57f4cd5766f2"
      },
      "execution_count": null,
      "outputs": [
        {
          "output_type": "stream",
          "name": "stdout",
          "text": [
            "--- Soal 8 ---\n",
            "Program berhenti karena angka -1 ditemukan.\n",
            "\n",
            "--- Soal 8 (Modifikasi) ---\n",
            "10\n",
            "20\n",
            "30\n",
            "Program berhenti karena angka 0 ditemukan.\n"
          ]
        }
      ]
    },
    {
      "cell_type": "code",
      "source": [
        "# soal 9\n",
        "\n",
        "print(\"--- Soal 9 ---\")\n",
        "total = 0\n",
        "bilangan = 1\n",
        "batas = 20\n",
        "\n",
        "while total <= batas:\n",
        "    total += bilangan\n",
        "    bilangan += 1\n",
        "\n",
        "print(\"Total terakhir:\", total)"
      ],
      "metadata": {
        "colab": {
          "base_uri": "https://localhost:8080/"
        },
        "id": "O4u98qVwyOn8",
        "outputId": "49366706-ff6f-4cfc-8511-9d4df227dc5a"
      },
      "execution_count": null,
      "outputs": [
        {
          "output_type": "stream",
          "name": "stdout",
          "text": [
            "--- Soal 9 ---\n",
            "Total terakhir: 21\n"
          ]
        }
      ]
    },
    {
      "cell_type": "code",
      "source": [
        "# soal 10\n",
        "\n",
        "print(\"--- Soal 10 ---\")\n",
        "jumlah_baris = 8\n",
        "\n",
        "for baris in range(jumlah_baris):\n",
        "    baris_teks = \"\"\n",
        "    for i in range(1):\n",
        "        baris_teks += \"Python \"\n",
        "    print(baris_teks)\n",
        "\n",
        "# Output:\n",
        "# Python\n",
        "# Python\n",
        "# Python"
      ],
      "metadata": {
        "colab": {
          "base_uri": "https://localhost:8080/"
        },
        "id": "lDAkeiAWykys",
        "outputId": "10b60aff-cb75-49af-f676-04e7e54103d1"
      },
      "execution_count": null,
      "outputs": [
        {
          "output_type": "stream",
          "name": "stdout",
          "text": [
            "--- Soal 10 ---\n",
            "Python \n",
            "Python \n",
            "Python \n",
            "Python \n",
            "Python \n",
            "Python \n",
            "Python \n",
            "Python \n"
          ]
        }
      ]
    }
  ]
}