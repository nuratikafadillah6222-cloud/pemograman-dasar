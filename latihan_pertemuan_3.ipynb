{
  "nbformat": 4,
  "nbformat_minor": 0,
  "metadata": {
    "colab": {
      "provenance": [],
      "authorship_tag": "ABX9TyOv7tOKRzJvf78YRITRbefz",
      "include_colab_link": true
    },
    "kernelspec": {
      "name": "python3",
      "display_name": "Python 3"
    },
    "language_info": {
      "name": "python"
    }
  },
  "cells": [
    {
      "cell_type": "markdown",
      "metadata": {
        "id": "view-in-github",
        "colab_type": "text"
      },
      "source": [
        "<a href=\"https://colab.research.google.com/github/nuratikafadillah6222-cloud/pemograman-dasar/blob/main/latihan_pertemuan_3.ipynb\" target=\"_parent\"><img src=\"https://colab.research.google.com/assets/colab-badge.svg\" alt=\"Open In Colab\"/></a>"
      ]
    },
    {
      "cell_type": "code",
      "execution_count": 24,
      "metadata": {
        "colab": {
          "base_uri": "https://localhost:8080/"
        },
        "id": "4Pj8tIYPi7Fw",
        "outputId": "796e4100-e2f5-428b-c2ee-a8ee4941256e"
      },
      "outputs": [
        {
          "output_type": "stream",
          "name": "stdout",
          "text": [
            "Masukkan tahun: 2004\n",
            "Tahun 2004 adalah tahun kabisat\n"
          ]
        }
      ],
      "source": [
        "# LATIHAN 1\n",
        "\n",
        "tahun = int(input(\"Masukkan tahun: \"))\n",
        "kabisat = tahun % 4 == 0 and (tahun % 100 != 0 or tahun % 400 == 0)\n",
        "print(f\"Tahun {tahun} adalah tahun kabisat\")\n"
      ]
    },
    {
      "cell_type": "code",
      "source": [
        "# LATIHAN 2\n",
        "\n",
        "\n",
        "print(\"=== Program Kalkulator Sederhana ===\")\n",
        "\n",
        "# ---- Input ----\n",
        "angka1 = float(input(\"Masukkan angka pertama : \"))\n",
        "angka2 = float(input(\"Masukkan angka kedua   : \"))\n",
        "\n",
        "# ---- Operasi Aritmatika ----\n",
        "penjumlahan = angka1 + angka2\n",
        "pengurangan = angka1 - angka2\n",
        "perkalian   = angka1 * angka2\n",
        "pembagian   = angka1 / angka2\n",
        "\n",
        "# ---- Output ----\n",
        "print(\"\\nHasil Perhitungan:\")\n",
        "print(\"Penjumlahan :\", penjumlahan)\n",
        "print(\"Pengurangan :\", pengurangan)\n",
        "print(\"Perkalian   :\", perkalian)\n",
        "print(\"Pembagian   :\", pembagian)\n"
      ],
      "metadata": {
        "colab": {
          "base_uri": "https://localhost:8080/"
        },
        "id": "8BdJcXKzqXKd",
        "outputId": "754a76dd-289c-4139-97b2-efb7d13f3212"
      },
      "execution_count": 28,
      "outputs": [
        {
          "output_type": "stream",
          "name": "stdout",
          "text": [
            "=== Program Kalkulator Sederhana ===\n",
            "Masukkan angka pertama : 67\n",
            "Masukkan angka kedua   : 12\n",
            "\n",
            "Hasil Perhitungan:\n",
            "Penjumlahan : 79.0\n",
            "Pengurangan : 55.0\n",
            "Perkalian   : 804.0\n",
            "Pembagian   : 5.583333333333333\n"
          ]
        }
      ]
    }
  ]
}