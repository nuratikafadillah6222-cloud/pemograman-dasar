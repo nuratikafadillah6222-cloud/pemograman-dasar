{
  "nbformat": 4,
  "nbformat_minor": 0,
  "metadata": {
    "colab": {
      "provenance": [],
      "authorship_tag": "ABX9TyNXOJ3uw6+3L99elUWzIR3l",
      "include_colab_link": true
    },
    "kernelspec": {
      "name": "python3",
      "display_name": "Python 3"
    },
    "language_info": {
      "name": "python"
    }
  },
  "cells": [
    {
      "cell_type": "markdown",
      "metadata": {
        "id": "view-in-github",
        "colab_type": "text"
      },
      "source": [
        "<a href=\"https://colab.research.google.com/github/nuratikafadillah6222-cloud/pemograman-dasar/blob/main/TUGAS%201.ipynb\" target=\"_parent\"><img src=\"https://colab.research.google.com/assets/colab-badge.svg\" alt=\"Open In Colab\"/></a>"
      ]
    },
    {
      "cell_type": "code",
      "execution_count": 11,
      "metadata": {
        "colab": {
          "base_uri": "https://localhost:8080/"
        },
        "id": "dYa4f2UKihx4",
        "outputId": "24b00d73-8d50-49b3-c0e8-16e661545b44"
      },
      "outputs": [
        {
          "output_type": "stream",
          "name": "stdout",
          "text": [
            "Nama : Nur Atika Fadillah\n",
            "Umur : 19\n",
            "Jurusan : RPE\n",
            "Semester : 3\n",
            "Mata Kuliah : Pemerograman Dasar\n",
            "Status Lulus : False\n",
            "list: ['Nur Atika Fadillah', 19, 'RPE', 3, 'Pemerograman Dasar', False]\n",
            "tuple: ('Nur Atika Fadillah', 19, 'RPE', 3, 'Pemerograman Dasar', False)\n",
            "set: {False, 3, 19, 'Nur Atika Fadillah', 'Pemerograman Dasar', 'RPE'}\n",
            "dictionary: {'nama': 'Nur Atika Fadillah', 'umur': 19, 'jurusan': 'RPE', 'semester': 3, 'matakuliah': 'Pemerograman Dasar', 'status_lulus': False}\n"
          ]
        }
      ],
      "source": [
        "# Biodata Saya\n",
        "nama = \"Nur Atika Fadillah\"\n",
        "umur = 19\n",
        "jurusan = \"RPE\"\n",
        "semester = 3\n",
        "matakuliah = 'Pemerograman Dasar'\n",
        "status_lulus = False\n",
        "\n",
        "print(\"Nama :\", nama)\n",
        "print(\"Umur :\", umur)\n",
        "print(\"Jurusan :\", jurusan)\n",
        "print(\"Semester :\", semester)\n",
        "print(\"Mata Kuliah :\", matakuliah)\n",
        "print(\"Status Lulus :\", status_lulus)\n",
        "\n",
        "# Pemerograman biodata dengan data non primitif\n",
        "\n",
        "# 1. list\n",
        "biodata_list = [\"Nur Atika Fadillah\", 19, \"RPE\", 3, \"Pemerograman Dasar\", False]\n",
        "print(\"list:\", biodata_list)\n",
        "\n",
        "\n",
        "# 2. tuple\n",
        "biodata_tuple = (\"Nur Atika Fadillah\", 19, \"RPE\", 3, \"Pemerograman Dasar\", False)\n",
        "print(\"tuple:\", biodata_tuple)\n",
        "\n",
        "\n",
        "# 3. set\n",
        "biodata_set = {\"Nur Atika Fadillah\", 19, \"RPE\", 3, \"Pemerograman Dasar\", False}\n",
        "print(\"set:\", biodata_set)\n",
        "\n",
        "\n",
        "# 4. dictionary\n",
        "biodata_dict = {\n",
        "    \"nama\" : \"Nur Atika Fadillah\",\n",
        "    \"umur\" : 19,\n",
        "    \"jurusan\" : \"RPE\",\n",
        "    \"semester\" : 3,\n",
        "    \"matakuliah\" : \"Pemerograman Dasar\",\n",
        "    \"status_lulus\" : False\n",
        "}\n",
        "print(\"dictionary:\", biodata_dict)\n",
        "\n"
      ]
    }
  ]
}