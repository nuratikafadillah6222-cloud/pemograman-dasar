{
  "nbformat": 4,
  "nbformat_minor": 0,
  "metadata": {
    "colab": {
      "provenance": [],
      "authorship_tag": "ABX9TyMJvi2+uyKA8i80boOyNlBW",
      "include_colab_link": true
    },
    "kernelspec": {
      "name": "python3",
      "display_name": "Python 3"
    },
    "language_info": {
      "name": "python"
    }
  },
  "cells": [
    {
      "cell_type": "markdown",
      "metadata": {
        "id": "view-in-github",
        "colab_type": "text"
      },
      "source": [
        "<a href=\"https://colab.research.google.com/github/nuratikafadillah6222-cloud/pemograman-dasar/blob/main/Quiz_pertemuan_2.ipynb\" target=\"_parent\"><img src=\"https://colab.research.google.com/assets/colab-badge.svg\" alt=\"Open In Colab\"/></a>"
      ]
    },
    {
      "cell_type": "code",
      "execution_count": 3,
      "metadata": {
        "id": "N3n11ehnem0z",
        "colab": {
          "base_uri": "https://localhost:8080/"
        },
        "outputId": "a32d06d0-9bde-4eb1-fafc-ad7ccee6989b"
      },
      "outputs": [
        {
          "output_type": "stream",
          "name": "stdout",
          "text": [
            "80\n"
          ]
        }
      ],
      "source": [
        "data_inventaris: dict[str, int] = {\n",
        "    \"meja\" : 20,\n",
        "    \"kursi\" : 80,\n",
        "    \"papan_tulis\" : 5\n",
        "}\n",
        "\n",
        "jumlah_kursi = data_inventaris[\"kursi\"]\n",
        "print(jumlah_kursi)"
      ]
    }
  ]
}