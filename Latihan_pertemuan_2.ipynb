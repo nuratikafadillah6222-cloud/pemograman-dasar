{
  "nbformat": 4,
  "nbformat_minor": 0,
  "metadata": {
    "colab": {
      "provenance": [],
      "authorship_tag": "ABX9TyOwR6QqCprxlWrMRHkzaAVE",
      "include_colab_link": true
    },
    "kernelspec": {
      "name": "python3",
      "display_name": "Python 3"
    },
    "language_info": {
      "name": "python"
    }
  },
  "cells": [
    {
      "cell_type": "markdown",
      "metadata": {
        "id": "view-in-github",
        "colab_type": "text"
      },
      "source": [
        "<a href=\"https://colab.research.google.com/github/nuratikafadillah6222-cloud/pemograman-dasar/blob/main/Latihan_pertemuan_2.ipynb\" target=\"_parent\"><img src=\"https://colab.research.google.com/assets/colab-badge.svg\" alt=\"Open In Colab\"/></a>"
      ]
    },
    {
      "cell_type": "code",
      "execution_count": 12,
      "metadata": {
        "colab": {
          "base_uri": "https://localhost:8080/"
        },
        "id": "TG7ExK4vqnQr",
        "outputId": "ed2727d2-fd82-4b19-b2e0-4d9a79d5beaf"
      },
      "outputs": [
        {
          "output_type": "stream",
          "name": "stdout",
          "text": [
            "[23, 43, 15, 34]\n",
            "23\n",
            "43\n",
            "15\n",
            "34\n",
            "51\n"
          ]
        }
      ],
      "source": [
        "# LATIHAN TIPE DATA : LIST\n",
        "\n",
        "# deklarasi variabel list\n",
        "numbers = [23, 43, 15, 34]\n",
        "print (numbers)\n",
        "# cara mengakses elemen dalam variabel list\n",
        "numbers[0] # 23\n",
        "numbers[1] # 43\n",
        "numbers[2] # 15\n",
        "numbers[3] # 34\n",
        "print (numbers[0])\n",
        "print (numbers[1])\n",
        "print (numbers[2])\n",
        "print (numbers[3])\n",
        "\n",
        "#cara mengubah nilai elemen dalam variabel list\n",
        "numbers[2] = 51\n",
        "numbers[2] # 51\n",
        "print (numbers[2])\n",
        "\n"
      ]
    },
    {
      "cell_type": "code",
      "source": [
        "# deklarasi variabel list numbers\n",
        "numbers = [1, 2, 3]\n",
        "print (numbers)\n",
        "\n",
        "# menambahkan elemen di indeks ke-4\n",
        "numbers.insert(4, 5)  # [1, 2, 3, 5]\n",
        "print (numbers.insert(4, 5))\n",
        "\n",
        "# mengubah elemen di eindeks ke-4\n",
        "numbers [3] = 4   # [1, 2, 3, 4]\n",
        "print (numbers [3])\n",
        "\n",
        "# mengapus elemen di indeks ke-2\n",
        "numbers.pop(2)    # [1, 2. 4]\n",
        "print (numbers.pop(2))\n",
        "\n"
      ],
      "metadata": {
        "colab": {
          "base_uri": "https://localhost:8080/"
        },
        "id": "Y_aVI4w0sJjx",
        "outputId": "94c77782-1647-4035-c40e-1ae9ee997dd8"
      },
      "execution_count": 17,
      "outputs": [
        {
          "output_type": "stream",
          "name": "stdout",
          "text": [
            "[1, 2, 3]\n",
            "None\n",
            "4\n",
            "4\n"
          ]
        }
      ]
    },
    {
      "cell_type": "code",
      "source": [
        "# deklarasi variabel list\n",
        "mylist = [1, \"Rumah\", 4.5, True, [\"Kamar mandi\", \"kamar tidur\"]]\n",
        "print (mylist)\n",
        "\n",
        "# cara mengakses elemen dalam variabel list\n",
        "mylist[0] # 1\n",
        "mylist[1] # Rumah\n",
        "mylist[2] # 4.5\n",
        "mylist[3] # True\n",
        "mylist[4] # [\"Kamar mandi\", \"kamar tidur\"]\n",
        "print (mylist[0])\n",
        "print (mylist[1])\n",
        "print (mylist[2])\n",
        "print (mylist[3])\n",
        "print (mylist[4])\n",
        "\n",
        "# cara mengakses elemen dalam sublist\n",
        "mylist[4][0]  # \"Kamar mandi\"\n",
        "mylist[4][1]  # \"Kamar tidur\"\n",
        "print (mylist[4][0])\n",
        "print (mylist[4][1])"
      ],
      "metadata": {
        "colab": {
          "base_uri": "https://localhost:8080/"
        },
        "id": "TWfEGkB-xlyV",
        "outputId": "341a4d16-7c78-46b5-c8b0-73bbaafccc77"
      },
      "execution_count": 19,
      "outputs": [
        {
          "output_type": "stream",
          "name": "stdout",
          "text": [
            "[1, 'Rumah', 4.5, True, ['Kamar mandi', 'kamar tidur']]\n",
            "1\n",
            "Rumah\n",
            "4.5\n",
            "True\n",
            "['Kamar mandi', 'kamar tidur']\n",
            "Kamar mandi\n",
            "kamar tidur\n"
          ]
        }
      ]
    },
    {
      "cell_type": "code",
      "source": [
        "# slicing list\n",
        "\n",
        "x = [\"laptop\", \"monitor\", \"mouse\", \"keyboard\", \"webcam\", \"microphone\"]\n",
        "\n",
        "print(x[0:5:2])\n",
        "print(x[1:])\n",
        "print(x[:3])"
      ],
      "metadata": {
        "colab": {
          "base_uri": "https://localhost:8080/"
        },
        "id": "df9XR4J4zmmU",
        "outputId": "bed93c2e-fc37-4521-ecf0-7b22a752c487"
      },
      "execution_count": 20,
      "outputs": [
        {
          "output_type": "stream",
          "name": "stdout",
          "text": [
            "['laptop', 'mouse', 'webcam']\n",
            "['monitor', 'mouse', 'keyboard', 'webcam', 'microphone']\n",
            "['laptop', 'monitor', 'mouse']\n"
          ]
        }
      ]
    },
    {
      "cell_type": "code",
      "source": [
        "# tuple\n",
        "\n",
        "x = (1, \"polibatam\", 1+3j)\n",
        "print(type(x))\n",
        "\n",
        "\n",
        "# indexing tuple\n",
        "\n",
        "x = (5, 'program', 1+3j)\n",
        "print(x[1])\n",
        "print(x[0:3])"
      ],
      "metadata": {
        "colab": {
          "base_uri": "https://localhost:8080/"
        },
        "id": "z2RvlUVC0Oqg",
        "outputId": "ad8a4087-8cfe-471a-dd9c-afa56f1cec95"
      },
      "execution_count": 24,
      "outputs": [
        {
          "output_type": "stream",
          "name": "stdout",
          "text": [
            "<class 'tuple'>\n",
            "program\n",
            "(5, 'program', (1+3j))\n"
          ]
        }
      ]
    },
    {
      "cell_type": "code",
      "source": [
        "\n",
        "# deklarasi variabel tuple\n",
        "numbers = (23, 43, 15, 34)\n",
        "print (numbers)\n",
        "\n",
        "# cara mengakses elemen dalam variabel tuple\n",
        "numbers[0]   # 23\n",
        "numbers[1]   # 43\n",
        "numbers[2]    # 15\n",
        "print (numbers[0])\n",
        "print (numbers[1])\n",
        "print (numbers[2])"
      ],
      "metadata": {
        "colab": {
          "base_uri": "https://localhost:8080/"
        },
        "id": "Jax97CW-06En",
        "outputId": "634b6425-8144-4171-ff31-8212c3478648"
      },
      "execution_count": 30,
      "outputs": [
        {
          "output_type": "stream",
          "name": "stdout",
          "text": [
            "(23, 43, 15, 34)\n",
            "23\n",
            "43\n",
            "15\n"
          ]
        }
      ]
    },
    {
      "cell_type": "code",
      "source": [
        "# TIPE DATA : SET\n",
        "\n",
        "# deklarasi variabel set a dan b\n",
        "a = {1, 2, 3}\n",
        "b = {2, 3, 4}\n",
        "print (a)\n",
        "print (b)\n",
        "\n",
        "# operasi gabungan\n",
        "a.union(b) # {1, 2, 3, 4}\n",
        "print (a.union(b))\n",
        "\n",
        "# operasi irisan\n",
        "a.intersection(b) # {2, 3}\n",
        "print (a.intersection(b))\n",
        "\n",
        "# operasi perbedaan\n",
        "a.symmetric_difference(b) # {1, 4}\n",
        "print (a.symmetric_difference(b))\n"
      ],
      "metadata": {
        "colab": {
          "base_uri": "https://localhost:8080/"
        },
        "id": "WyeI7Q4G2QL8",
        "outputId": "0fea2f4c-7952-44d8-abff-d1139b14be24"
      },
      "execution_count": 31,
      "outputs": [
        {
          "output_type": "stream",
          "name": "stdout",
          "text": [
            "{1, 2, 3}\n",
            "{2, 3, 4}\n",
            "{1, 2, 3, 4}\n",
            "{2, 3}\n",
            "{1, 4}\n"
          ]
        }
      ]
    },
    {
      "cell_type": "code",
      "source": [
        "# TIPE DATA : DICTIONARY\n",
        "\n",
        "# menambah data\n",
        "x = { 'name': 'perseus Evans', 'age': 20, 'isMarried': False}\n",
        "x ['Job'] = \"Web Developer\"\n",
        "\n",
        "print(x)\n",
        "\n",
        "# menghapus data\n",
        "x = { 'name': 'Perseus Evans', 'age': 20, 'isMarried': False}\n",
        "del x['isMarried']\n",
        "\n",
        "print(x)\n",
        "\n",
        "# mengubah data\n",
        "x = { 'name': 'Perseus Evans', 'age': 20, 'isMarried': False}\n",
        "x ['name'] = \"exvan\"\n",
        "\n",
        "print(x)"
      ],
      "metadata": {
        "colab": {
          "base_uri": "https://localhost:8080/"
        },
        "id": "7Au8Pbqz3RMt",
        "outputId": "ee6224d1-f063-49a6-cbac-3ddee460ef9c"
      },
      "execution_count": 34,
      "outputs": [
        {
          "output_type": "stream",
          "name": "stdout",
          "text": [
            "{'name': 'perseus Evans', 'age': 20, 'isMarried': False, 'Job': 'Web Developer'}\n",
            "{'name': 'Perseus Evans', 'age': 20}\n",
            "{'name': 'exvan', 'age': 20, 'isMarried': False}\n"
          ]
        }
      ]
    },
    {
      "cell_type": "code",
      "source": [
        "# deklarasi variabel dictionary\n",
        "propertyDetail = {\"numFloors\": 1, \"propertyType\": \"Rumah\", \"hasTerrace\": True, \"hasGarage\": False}\n",
        "print (propertyDetail)\n",
        "\n",
        "# cara mengakses elemen dalam variabel dictionary\n",
        "propertyDetail[\"numFloors\"] # 1\n",
        "propertyDetail[\"propertyType\"] # Rumah\n",
        "propertyDetail[\"hasTerrace\"] # True\n",
        "propertyDetail[\"hasGarage\"]  # False\n",
        "\n",
        "print (propertyDetail[\"numFloors\"])\n",
        "print (propertyDetail[\"propertyType\"])\n",
        "print (propertyDetail[\"hasTerrace\"])\n",
        "print (propertyDetail[\"hasGarage\"])\n",
        "\n",
        "# cara mengubah nilai elemen dalam variabel dictionary\n",
        "propertyDetail[\"hasTerrace\"] = False\n",
        "propertyDetail[\"hasTerrace\"] # False\n",
        "print(propertyDetail[\"hasTerrace\"])\n",
        "\n",
        "# contoh akses lain\n",
        "print(propertyDetail[\"propertyType\"]) # Rumah\n",
        "\n"
      ],
      "metadata": {
        "colab": {
          "base_uri": "https://localhost:8080/"
        },
        "id": "hUTkI3gI40yd",
        "outputId": "59de06b3-f7b5-482c-966c-5df9f1852e0c"
      },
      "execution_count": 41,
      "outputs": [
        {
          "output_type": "stream",
          "name": "stdout",
          "text": [
            "{'numFloors': 1, 'propertyType': 'Rumah', 'hasTerrace': True, 'hasGarage': False}\n",
            "1\n",
            "Rumah\n",
            "True\n",
            "False\n",
            "False\n",
            "Rumah\n"
          ]
        }
      ]
    }
  ]
}