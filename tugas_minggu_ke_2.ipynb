{
  "nbformat": 4,
  "nbformat_minor": 0,
  "metadata": {
    "colab": {
      "provenance": [],
      "authorship_tag": "ABX9TyPqoeQ3210OyKGGU7Lz81cC",
      "include_colab_link": true
    },
    "kernelspec": {
      "name": "python3",
      "display_name": "Python 3"
    },
    "language_info": {
      "name": "python"
    }
  },
  "cells": [
    {
      "cell_type": "markdown",
      "metadata": {
        "id": "view-in-github",
        "colab_type": "text"
      },
      "source": [
        "<a href=\"https://colab.research.google.com/github/nuratikafadillah6222-cloud/pemograman-dasar/blob/main/tugas_minggu_ke_2.ipynb\" target=\"_parent\"><img src=\"https://colab.research.google.com/assets/colab-badge.svg\" alt=\"Open In Colab\"/></a>"
      ]
    },
    {
      "cell_type": "code",
      "execution_count": 1,
      "metadata": {
        "colab": {
          "base_uri": "https://localhost:8080/"
        },
        "id": "uA8cCiETk_vE",
        "outputId": "6982bd92-6a4d-4431-842b-0420d6d250b2"
      },
      "outputs": [
        {
          "output_type": "stream",
          "name": "stdout",
          "text": [
            "firstname : Nur Atika\n",
            "lastname : Fadillah\n",
            "age : 19\n",
            "isMarried : False\n"
          ]
        }
      ],
      "source": [
        "# TUGAS MINGGU KEDUA\n",
        "\n",
        "# tugas 1\n",
        "firstname = \"Nur Atika\"\n",
        "lastname = \"Fadillah\"\n",
        "age = 19\n",
        "isMarried = False\n",
        "\n",
        "print(\"firstname :\",firstname)\n",
        "print(\"lastname :\",lastname)\n",
        "print(\"age :\",age)\n",
        "print(\"isMarried :\",isMarried)\n"
      ]
    },
    {
      "cell_type": "code",
      "source": [
        "# tugas 2\n",
        "data_diri = {\"firstname\":\"Nur Atika\",\"lastname\":\"Fadillah\",\"age\":19,\"isMarried\":False}\n",
        "\n",
        "print(data_diri)"
      ],
      "metadata": {
        "colab": {
          "base_uri": "https://localhost:8080/"
        },
        "id": "x0-XqLOdt3to",
        "outputId": "4aa04b84-57d5-4bb8-e700-8a95c5f9dd6a"
      },
      "execution_count": 2,
      "outputs": [
        {
          "output_type": "stream",
          "name": "stdout",
          "text": [
            "{'firstname': 'Nur Atika', 'lastname': 'Fadillah', 'age': 19, 'isMarried': False}\n"
          ]
        }
      ]
    },
    {
      "cell_type": "code",
      "source": [
        "# tugas 3\n",
        "inspeksi = [\n",
        "    \"pemahaman terhadap rencana dan desain\",\"ketersediaan bahan dan peralatan\",\"pengawasan pekerjaan\",\"kualitas konstruksi\",\"keselamatan kerja\",\"koordinasi dengan pemilik proyek\"]\n",
        "\n",
        "print(inspeksi[0])\n",
        "print(inspeksi[1])\n",
        "print(inspeksi[2])\n",
        "print(inspeksi[3])\n",
        "print(inspeksi[4])\n",
        "print(inspeksi[5])\n"
      ],
      "metadata": {
        "colab": {
          "base_uri": "https://localhost:8080/"
        },
        "id": "nABU9QOXulFv",
        "outputId": "8a4cd058-1ff4-45ee-8b8d-ec38b3df0c36"
      },
      "execution_count": 5,
      "outputs": [
        {
          "output_type": "stream",
          "name": "stdout",
          "text": [
            "pemahaman terhadap rencana dan desain\n",
            "ketersediaan bahan dan peralatan\n",
            "pengawasan pekerjaan\n",
            "kualitas konstruksi\n",
            "keselamatan kerja\n",
            "koordinasi dengan pemilik proyek\n"
          ]
        }
      ]
    },
    {
      "cell_type": "code",
      "source": [
        "# tugas 4\n",
        "\n",
        "# variabel startTime bertipe dictionary\n",
        "startTime = {\"HH\": 9, \"mm\": 23, \"ss\": 57}\n",
        "\n",
        "# variabel endTime bertipe dictionary\n",
        "endTime = {\"HH\": 15, \"mm\": 25, \"ss\": 43}\n",
        "\n",
        "print(\"startTime\")\n",
        "print(f\"{startTime['HH']}:{startTime['mm']}:{startTime['ss']}\")\n",
        "print()\n",
        "\n",
        "print(\"endTime\")\n",
        "print(f\"{endTime['HH']}:{endTime['mm']}:{endTime['ss']}\")"
      ],
      "metadata": {
        "colab": {
          "base_uri": "https://localhost:8080/"
        },
        "id": "i-RtOR7pwCkj",
        "outputId": "c62224cd-2484-43f4-8720-342d3ee5cbbe"
      },
      "execution_count": 8,
      "outputs": [
        {
          "output_type": "stream",
          "name": "stdout",
          "text": [
            "startTime\n",
            "9:23:57\n",
            "\n",
            "endTime\n",
            "15:25:43\n"
          ]
        }
      ]
    },
    {
      "cell_type": "code",
      "source": [
        "# tugas 5\n",
        "\n",
        "# data katalog bertipe set\n",
        "katalog_A = {\"cincin\", \"gelang\", \"kalung\", \"anting\"}\n",
        "katalog_B = {\"jam\", \"topi\", \"cincin\", \"gelang\"}\n",
        "\n",
        "# data produk diskon bertipe tuple\n",
        "produk_diskon = (\"cincin\", \"topi\", \"bandana\", \"kalung\")\n",
        "\n",
        "# gabung katalog A dan katalog B menjadi satu set\n",
        "katalog_lengkap = katalog_A.union(katalog_B)\n",
        "\n",
        "# cari produk di katalog_lengkap yang ada di produk_diskon\n",
        "produk_promo_aktif = katalog_lengkap.intersection(set(produk_diskon))\n",
        "\n",
        "# cetak hasil\n",
        "print(\"Katalog lengkap  :\", katalog_lengkap)\n",
        "print(\"Produk diskon    :\", produk_diskon)\n",
        "print(\"Produk promo aktif:\", produk_promo_aktif)\n"
      ],
      "metadata": {
        "colab": {
          "base_uri": "https://localhost:8080/"
        },
        "id": "uCWUstMDyqog",
        "outputId": "6a56f439-5d38-49e1-946f-549a40c9a780"
      },
      "execution_count": 15,
      "outputs": [
        {
          "output_type": "stream",
          "name": "stdout",
          "text": [
            "Katalog lengkap  : {'kalung', 'anting', 'gelang', 'topi', 'cincin', 'jam'}\n",
            "Produk diskon    : ('cincin', 'topi', 'bandana', 'kalung')\n",
            "Produk promo aktif: {'kalung', 'topi', 'cincin'}\n"
          ]
        }
      ]
    }
  ]
}